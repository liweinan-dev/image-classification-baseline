{
 "cells": [
  {
   "cell_type": "markdown",
   "metadata": {},
   "source": [
    "# Inception-v4, Inception-ResNet and the Impact of Residual Connections on Learning\n",
    "\n",
    "# 导师：余老师"
   ]
  },
  {
   "cell_type": "markdown",
   "metadata": {},
   "source": [
    "# 1 前言\n",
    "## 1.1课程回顾\n",
    "<img src=\"./imgs/review.png\"  width=\"700\" height=\"700\" align=\"bottom\" />"
   ]
  },
  {
   "cell_type": "markdown",
   "metadata": {},
   "source": [
    "### Inception-v4 architecture\n",
    "<img src=\"./imgs/v4-arch.png\"  width=\"500\" height=\"500\" align=\"bottom\" />\n",
    "\n",
    "### Inception-resnet architecture\n",
    "<img src=\"./imgs/ir-arch.png\"  width=\"500\" height=\"500\" align=\"bottom\" />"
   ]
  },
  {
   "cell_type": "markdown",
   "metadata": {},
   "source": [
    "## 1.2 G_GoogLenet-v4 代码结构\n",
    "<img src=\"./imgs/prj_arch.png\"  width=\"300\" height=\"500\" align=\"left\" />"
   ]
  },
  {
   "cell_type": "markdown",
   "metadata": {},
   "source": [
    "# 2 准备工作\n",
    "## 2.1项目环境配置\n",
    " \n",
    "* Python 3.x\n",
    "* jupyter notebook\n",
    "* torch           >1.0\n",
    "* torchsummary    1.5.1\n",
    "* torchvision     0.4.0+cu92\n",
    "* Pillow          6.1.0\n",
    "* numpy           1.17.0\n",
    "* opencv-python   4.1.2.30\n"
   ]
  },
  {
   "cell_type": "markdown",
   "metadata": {},
   "source": [
    "  \n",
    "## 2.2 预训练权重下载\n",
    "\n",
    "Inception-ResNet-V2: http://data.lip6.fr/cadene/pretrainedmodels/inceptionresnetv2-520b38e4.pth  \n",
    "Inception-V4: http://data.lip6.fr/cadene/pretrainedmodels/inceptionv4-8e4777a0.pth\n",
    "\n",
    "直接下载可能比较慢，两个文件已传到百度网盘了：链接：https://pan.baidu.com/s/1vdCrpMRdHweRM7YDB6NtMQ  提取码：nki4\n",
    "\n",
    "两个文件下载之后放到: F:\\cv_paper\\lesson\\G_GoogLeNet_v4\\data"
   ]
  },
  {
   "cell_type": "markdown",
   "metadata": {},
   "source": [
    "# 3 项目代码结构（pycharm中演示）\n",
    "\n",
    "## 3.1 inception_v4_inference.py\n",
    "    \n",
    "    采用在Imagenet上预训练的inception_v4模型进行分类测试 （跳转pycharm，观察效果）\n",
    "\n",
    "\n",
    "## 3.2 inception_resnet_v2_inference.py\n",
    "    \n",
    "    采用在Imagenet上预训练的inception_resnet_v2模型进行分类测试 （跳转pycharm，观察效果）"
   ]
  },
  {
   "cell_type": "markdown",
   "metadata": {},
   "source": [
    "# 4 算法模块及细节\n",
    "\n",
    "### 4.1  inception_v4_inference.py中各函数模块详解 (跳转notebook)\n",
    " \n",
    "### 4.2 inception_resnet_v2_inference.py中各函数模块详解 (跳转notebook)\n"
   ]
  },
  {
   "cell_type": "markdown",
   "metadata": {},
   "source": [
    "# 5 Pycharm整体演示\n",
    "\n",
    "　　回到pycharm环境中回顾一下项目工程"
   ]
  },
  {
   "cell_type": "markdown",
   "metadata": {},
   "source": [
    "# 6 作业\n",
    "\n",
    "\n",
    "\n",
    "    1：文字回答：用自己的理解，总结GoogLeNet-V1到GoogLeNet-V4，这四篇论文的发展 \n",
    "    2：文字回答：读完该论文，对你的启发点有哪些？\n"
   ]
  },
  {
   "cell_type": "code",
   "execution_count": null,
   "metadata": {},
   "outputs": [],
   "source": []
  }
 ],
 "metadata": {
  "colab": {
   "authorship_tag": "ABX9TyMaJPtlMHur6DonwEyZLw5h",
   "collapsed_sections": [],
   "name": "data process and load.ipynb",
   "provenance": []
  },
  "kernelspec": {
   "display_name": "pytorch_1.4_gpu",
   "language": "python",
   "name": "pytorch_1.4_gpu"
  },
  "language_info": {
   "codemirror_mode": {
    "name": "ipython",
    "version": 3
   },
   "file_extension": ".py",
   "mimetype": "text/x-python",
   "name": "python",
   "nbconvert_exporter": "python",
   "pygments_lexer": "ipython3",
   "version": "3.6.10"
  }
 },
 "nbformat": 4,
 "nbformat_minor": 1
}
